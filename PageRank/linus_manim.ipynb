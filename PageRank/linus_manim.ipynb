{
 "cells": [
  {
   "cell_type": "code",
   "execution_count": 3,
   "metadata": {},
   "outputs": [
    {
     "name": "stdout",
     "output_type": "stream",
     "text": [
      "<class 'linus_markov.MarkovChainGraph'> <class 'manim.mobject.types.vectorized_mobject.VGroup'>\n"
     ]
    },
    {
     "data": {
      "text/html": [
       "<pre style=\"white-space:pre;overflow-x:auto;line-height:normal;font-family:Menlo,'DejaVu Sans Mono',consolas,'Courier New',monospace\"><span style=\"color: #7fbfbf; text-decoration-color: #7fbfbf\">[08/28/22 15:15:18] </span><span style=\"color: #008000; text-decoration-color: #008000\">INFO    </span> Animation <span style=\"color: #008000; text-decoration-color: #008000\">0</span> : Using cached data <span style=\"font-weight: bold\">(</span>hash :                           <a href=\"file:///Users/jinrirencai/opt/anaconda3/envs/manim/lib/python3.9/site-packages/manim/renderer/cairo_renderer.py\" target=\"_blank\"><span style=\"color: #7f7f7f; text-decoration-color: #7f7f7f\">cairo_renderer.py</span></a><span style=\"color: #7f7f7f; text-decoration-color: #7f7f7f\">:</span><a href=\"file:///Users/jinrirencai/opt/anaconda3/envs/manim/lib/python3.9/site-packages/manim/renderer/cairo_renderer.py#75\" target=\"_blank\"><span style=\"color: #7f7f7f; text-decoration-color: #7f7f7f\">75</span></a>\n",
       "<span style=\"color: #7fbfbf; text-decoration-color: #7fbfbf\">                    </span>         1342159004_1955102722_223132457<span style=\"font-weight: bold\">)</span>                                  <span style=\"color: #7f7f7f; text-decoration-color: #7f7f7f\">                    </span>\n",
       "</pre>\n"
      ],
      "text/plain": [
       "\u001b[2;36m[08/28/22 15:15:18]\u001b[0m\u001b[2;36m \u001b[0m\u001b[32mINFO    \u001b[0m Animation \u001b[32m0\u001b[0m : Using cached data \u001b[1m(\u001b[0mhash :                           \u001b]8;id=694706;file:///Users/jinrirencai/opt/anaconda3/envs/manim/lib/python3.9/site-packages/manim/renderer/cairo_renderer.py\u001b\\\u001b[2mcairo_renderer.py\u001b[0m\u001b]8;;\u001b\\\u001b[2m:\u001b[0m\u001b]8;id=302398;file:///Users/jinrirencai/opt/anaconda3/envs/manim/lib/python3.9/site-packages/manim/renderer/cairo_renderer.py#75\u001b\\\u001b[2m75\u001b[0m\u001b]8;;\u001b\\\n",
       "\u001b[2;36m                    \u001b[0m         1342159004_1955102722_223132457\u001b[1m)\u001b[0m                                  \u001b[2m                    \u001b[0m\n"
      ]
     },
     "metadata": {},
     "output_type": "display_data"
    },
    {
     "name": "stderr",
     "output_type": "stream",
     "text": [
      "                                                                                           \r"
     ]
    },
    {
     "data": {
      "text/html": [
       "<pre style=\"white-space:pre;overflow-x:auto;line-height:normal;font-family:Menlo,'DejaVu Sans Mono',consolas,'Courier New',monospace\"><span style=\"color: #7fbfbf; text-decoration-color: #7fbfbf\">                    </span><span style=\"color: #008000; text-decoration-color: #008000\">INFO    </span> Animation <span style=\"color: #008000; text-decoration-color: #008000\">1</span> : Using cached data <span style=\"font-weight: bold\">(</span>hash :                           <a href=\"file:///Users/jinrirencai/opt/anaconda3/envs/manim/lib/python3.9/site-packages/manim/renderer/cairo_renderer.py\" target=\"_blank\"><span style=\"color: #7f7f7f; text-decoration-color: #7f7f7f\">cairo_renderer.py</span></a><span style=\"color: #7f7f7f; text-decoration-color: #7f7f7f\">:</span><a href=\"file:///Users/jinrirencai/opt/anaconda3/envs/manim/lib/python3.9/site-packages/manim/renderer/cairo_renderer.py#75\" target=\"_blank\"><span style=\"color: #7f7f7f; text-decoration-color: #7f7f7f\">75</span></a>\n",
       "<span style=\"color: #7fbfbf; text-decoration-color: #7fbfbf\">                    </span>         1353618911_3043465663_1989923581<span style=\"font-weight: bold\">)</span>                                 <span style=\"color: #7f7f7f; text-decoration-color: #7f7f7f\">                    </span>\n",
       "</pre>\n"
      ],
      "text/plain": [
       "\u001b[2;36m                   \u001b[0m\u001b[2;36m \u001b[0m\u001b[32mINFO    \u001b[0m Animation \u001b[32m1\u001b[0m : Using cached data \u001b[1m(\u001b[0mhash :                           \u001b]8;id=478083;file:///Users/jinrirencai/opt/anaconda3/envs/manim/lib/python3.9/site-packages/manim/renderer/cairo_renderer.py\u001b\\\u001b[2mcairo_renderer.py\u001b[0m\u001b]8;;\u001b\\\u001b[2m:\u001b[0m\u001b]8;id=6899;file:///Users/jinrirencai/opt/anaconda3/envs/manim/lib/python3.9/site-packages/manim/renderer/cairo_renderer.py#75\u001b\\\u001b[2m75\u001b[0m\u001b]8;;\u001b\\\n",
       "\u001b[2;36m                    \u001b[0m         1353618911_3043465663_1989923581\u001b[1m)\u001b[0m                                 \u001b[2m                    \u001b[0m\n"
      ]
     },
     "metadata": {},
     "output_type": "display_data"
    },
    {
     "name": "stderr",
     "output_type": "stream",
     "text": [
      "                                                                                   \r"
     ]
    },
    {
     "data": {
      "text/html": [
       "<pre style=\"white-space:pre;overflow-x:auto;line-height:normal;font-family:Menlo,'DejaVu Sans Mono',consolas,'Courier New',monospace\"><span style=\"color: #7fbfbf; text-decoration-color: #7fbfbf\">                    </span><span style=\"color: #008000; text-decoration-color: #008000\">INFO    </span> Animation <span style=\"color: #008000; text-decoration-color: #008000\">2</span> : Using cached data <span style=\"font-weight: bold\">(</span>hash :                           <a href=\"file:///Users/jinrirencai/opt/anaconda3/envs/manim/lib/python3.9/site-packages/manim/renderer/cairo_renderer.py\" target=\"_blank\"><span style=\"color: #7f7f7f; text-decoration-color: #7f7f7f\">cairo_renderer.py</span></a><span style=\"color: #7f7f7f; text-decoration-color: #7f7f7f\">:</span><a href=\"file:///Users/jinrirencai/opt/anaconda3/envs/manim/lib/python3.9/site-packages/manim/renderer/cairo_renderer.py#75\" target=\"_blank\"><span style=\"color: #7f7f7f; text-decoration-color: #7f7f7f\">75</span></a>\n",
       "<span style=\"color: #7fbfbf; text-decoration-color: #7fbfbf\">                    </span>         1353618911_329969645_788148145<span style=\"font-weight: bold\">)</span>                                   <span style=\"color: #7f7f7f; text-decoration-color: #7f7f7f\">                    </span>\n",
       "</pre>\n"
      ],
      "text/plain": [
       "\u001b[2;36m                   \u001b[0m\u001b[2;36m \u001b[0m\u001b[32mINFO    \u001b[0m Animation \u001b[32m2\u001b[0m : Using cached data \u001b[1m(\u001b[0mhash :                           \u001b]8;id=137197;file:///Users/jinrirencai/opt/anaconda3/envs/manim/lib/python3.9/site-packages/manim/renderer/cairo_renderer.py\u001b\\\u001b[2mcairo_renderer.py\u001b[0m\u001b]8;;\u001b\\\u001b[2m:\u001b[0m\u001b]8;id=111011;file:///Users/jinrirencai/opt/anaconda3/envs/manim/lib/python3.9/site-packages/manim/renderer/cairo_renderer.py#75\u001b\\\u001b[2m75\u001b[0m\u001b]8;;\u001b\\\n",
       "\u001b[2;36m                    \u001b[0m         1353618911_329969645_788148145\u001b[1m)\u001b[0m                                   \u001b[2m                    \u001b[0m\n"
      ]
     },
     "metadata": {},
     "output_type": "display_data"
    },
    {
     "data": {
      "text/html": [
       "<pre style=\"white-space:pre;overflow-x:auto;line-height:normal;font-family:Menlo,'DejaVu Sans Mono',consolas,'Courier New',monospace\"><span style=\"color: #7fbfbf; text-decoration-color: #7fbfbf\">                    </span><span style=\"color: #008000; text-decoration-color: #008000\">INFO    </span> Animation <span style=\"color: #008000; text-decoration-color: #008000\">3</span> : Using cached data <span style=\"font-weight: bold\">(</span>hash :                           <a href=\"file:///Users/jinrirencai/opt/anaconda3/envs/manim/lib/python3.9/site-packages/manim/renderer/cairo_renderer.py\" target=\"_blank\"><span style=\"color: #7f7f7f; text-decoration-color: #7f7f7f\">cairo_renderer.py</span></a><span style=\"color: #7f7f7f; text-decoration-color: #7f7f7f\">:</span><a href=\"file:///Users/jinrirencai/opt/anaconda3/envs/manim/lib/python3.9/site-packages/manim/renderer/cairo_renderer.py#75\" target=\"_blank\"><span style=\"color: #7f7f7f; text-decoration-color: #7f7f7f\">75</span></a>\n",
       "<span style=\"color: #7fbfbf; text-decoration-color: #7fbfbf\">                    </span>         1353618911_1743182271_1163530150<span style=\"font-weight: bold\">)</span>                                 <span style=\"color: #7f7f7f; text-decoration-color: #7f7f7f\">                    </span>\n",
       "</pre>\n"
      ],
      "text/plain": [
       "\u001b[2;36m                   \u001b[0m\u001b[2;36m \u001b[0m\u001b[32mINFO    \u001b[0m Animation \u001b[32m3\u001b[0m : Using cached data \u001b[1m(\u001b[0mhash :                           \u001b]8;id=392503;file:///Users/jinrirencai/opt/anaconda3/envs/manim/lib/python3.9/site-packages/manim/renderer/cairo_renderer.py\u001b\\\u001b[2mcairo_renderer.py\u001b[0m\u001b]8;;\u001b\\\u001b[2m:\u001b[0m\u001b]8;id=705498;file:///Users/jinrirencai/opt/anaconda3/envs/manim/lib/python3.9/site-packages/manim/renderer/cairo_renderer.py#75\u001b\\\u001b[2m75\u001b[0m\u001b]8;;\u001b\\\n",
       "\u001b[2;36m                    \u001b[0m         1353618911_1743182271_1163530150\u001b[1m)\u001b[0m                                 \u001b[2m                    \u001b[0m\n"
      ]
     },
     "metadata": {},
     "output_type": "display_data"
    },
    {
     "name": "stderr",
     "output_type": "stream",
     "text": [
      "                                                                     \r"
     ]
    },
    {
     "data": {
      "text/html": [
       "<pre style=\"white-space:pre;overflow-x:auto;line-height:normal;font-family:Menlo,'DejaVu Sans Mono',consolas,'Courier New',monospace\"><span style=\"color: #7fbfbf; text-decoration-color: #7fbfbf\">[08/28/22 15:15:19] </span><span style=\"color: #008000; text-decoration-color: #008000\">INFO    </span> Animation <span style=\"color: #008000; text-decoration-color: #008000\">4</span> : Using cached data <span style=\"font-weight: bold\">(</span>hash :                           <a href=\"file:///Users/jinrirencai/opt/anaconda3/envs/manim/lib/python3.9/site-packages/manim/renderer/cairo_renderer.py\" target=\"_blank\"><span style=\"color: #7f7f7f; text-decoration-color: #7f7f7f\">cairo_renderer.py</span></a><span style=\"color: #7f7f7f; text-decoration-color: #7f7f7f\">:</span><a href=\"file:///Users/jinrirencai/opt/anaconda3/envs/manim/lib/python3.9/site-packages/manim/renderer/cairo_renderer.py#75\" target=\"_blank\"><span style=\"color: #7f7f7f; text-decoration-color: #7f7f7f\">75</span></a>\n",
       "<span style=\"color: #7fbfbf; text-decoration-color: #7fbfbf\">                    </span>         1353618911_329969645_1937952539<span style=\"font-weight: bold\">)</span>                                  <span style=\"color: #7f7f7f; text-decoration-color: #7f7f7f\">                    </span>\n",
       "</pre>\n"
      ],
      "text/plain": [
       "\u001b[2;36m[08/28/22 15:15:19]\u001b[0m\u001b[2;36m \u001b[0m\u001b[32mINFO    \u001b[0m Animation \u001b[32m4\u001b[0m : Using cached data \u001b[1m(\u001b[0mhash :                           \u001b]8;id=885967;file:///Users/jinrirencai/opt/anaconda3/envs/manim/lib/python3.9/site-packages/manim/renderer/cairo_renderer.py\u001b\\\u001b[2mcairo_renderer.py\u001b[0m\u001b]8;;\u001b\\\u001b[2m:\u001b[0m\u001b]8;id=829747;file:///Users/jinrirencai/opt/anaconda3/envs/manim/lib/python3.9/site-packages/manim/renderer/cairo_renderer.py#75\u001b\\\u001b[2m75\u001b[0m\u001b]8;;\u001b\\\n",
       "\u001b[2;36m                    \u001b[0m         1353618911_329969645_1937952539\u001b[1m)\u001b[0m                                  \u001b[2m                    \u001b[0m\n"
      ]
     },
     "metadata": {},
     "output_type": "display_data"
    },
    {
     "data": {
      "text/html": [
       "<pre style=\"white-space:pre;overflow-x:auto;line-height:normal;font-family:Menlo,'DejaVu Sans Mono',consolas,'Courier New',monospace\"><span style=\"color: #7fbfbf; text-decoration-color: #7fbfbf\">                    </span><span style=\"color: #008000; text-decoration-color: #008000\">INFO    </span> Combining to Movie file.                                      <a href=\"file:///Users/jinrirencai/opt/anaconda3/envs/manim/lib/python3.9/site-packages/manim/scene/scene_file_writer.py\" target=\"_blank\"><span style=\"color: #7f7f7f; text-decoration-color: #7f7f7f\">scene_file_writer.py</span></a><span style=\"color: #7f7f7f; text-decoration-color: #7f7f7f\">:</span><a href=\"file:///Users/jinrirencai/opt/anaconda3/envs/manim/lib/python3.9/site-packages/manim/scene/scene_file_writer.py#607\" target=\"_blank\"><span style=\"color: #7f7f7f; text-decoration-color: #7f7f7f\">607</span></a>\n",
       "</pre>\n"
      ],
      "text/plain": [
       "\u001b[2;36m                   \u001b[0m\u001b[2;36m \u001b[0m\u001b[32mINFO    \u001b[0m Combining to Movie file.                                      \u001b]8;id=83295;file:///Users/jinrirencai/opt/anaconda3/envs/manim/lib/python3.9/site-packages/manim/scene/scene_file_writer.py\u001b\\\u001b[2mscene_file_writer.py\u001b[0m\u001b]8;;\u001b\\\u001b[2m:\u001b[0m\u001b]8;id=337103;file:///Users/jinrirencai/opt/anaconda3/envs/manim/lib/python3.9/site-packages/manim/scene/scene_file_writer.py#607\u001b\\\u001b[2m607\u001b[0m\u001b]8;;\u001b\\\n"
      ]
     },
     "metadata": {},
     "output_type": "display_data"
    },
    {
     "data": {
      "text/html": [
       "<pre style=\"white-space:pre;overflow-x:auto;line-height:normal;font-family:Menlo,'DejaVu Sans Mono',consolas,'Courier New',monospace\"><span style=\"color: #7fbfbf; text-decoration-color: #7fbfbf\">                    </span><span style=\"color: #008000; text-decoration-color: #008000\">INFO    </span>                                                               <a href=\"file:///Users/jinrirencai/opt/anaconda3/envs/manim/lib/python3.9/site-packages/manim/scene/scene_file_writer.py\" target=\"_blank\"><span style=\"color: #7f7f7f; text-decoration-color: #7f7f7f\">scene_file_writer.py</span></a><span style=\"color: #7f7f7f; text-decoration-color: #7f7f7f\">:</span><a href=\"file:///Users/jinrirencai/opt/anaconda3/envs/manim/lib/python3.9/site-packages/manim/scene/scene_file_writer.py#728\" target=\"_blank\"><span style=\"color: #7f7f7f; text-decoration-color: #7f7f7f\">728</span></a>\n",
       "<span style=\"color: #7fbfbf; text-decoration-color: #7fbfbf\">                    </span>         <span style=\"color: #808000; text-decoration-color: #808000; font-weight: bold\">File</span> ready at                                                 <span style=\"color: #7f7f7f; text-decoration-color: #7f7f7f\">                        </span>\n",
       "<span style=\"color: #7fbfbf; text-decoration-color: #7fbfbf\">                    </span>         <span style=\"color: #008000; text-decoration-color: #008000\">'/Users/jinrirencai/Desktop/linus_manim_media/videos/720p30/M</span> <span style=\"color: #7f7f7f; text-decoration-color: #7f7f7f\">                        </span>\n",
       "<span style=\"color: #7fbfbf; text-decoration-color: #7fbfbf\">                    </span>         <span style=\"color: #008000; text-decoration-color: #008000\">arkovChainTester.mp4'</span>                                         <span style=\"color: #7f7f7f; text-decoration-color: #7f7f7f\">                        </span>\n",
       "<span style=\"color: #7fbfbf; text-decoration-color: #7fbfbf\">                    </span>                                                                       <span style=\"color: #7f7f7f; text-decoration-color: #7f7f7f\">                        </span>\n",
       "</pre>\n"
      ],
      "text/plain": [
       "\u001b[2;36m                   \u001b[0m\u001b[2;36m \u001b[0m\u001b[32mINFO    \u001b[0m                                                               \u001b]8;id=184347;file:///Users/jinrirencai/opt/anaconda3/envs/manim/lib/python3.9/site-packages/manim/scene/scene_file_writer.py\u001b\\\u001b[2mscene_file_writer.py\u001b[0m\u001b]8;;\u001b\\\u001b[2m:\u001b[0m\u001b]8;id=912006;file:///Users/jinrirencai/opt/anaconda3/envs/manim/lib/python3.9/site-packages/manim/scene/scene_file_writer.py#728\u001b\\\u001b[2m728\u001b[0m\u001b]8;;\u001b\\\n",
       "\u001b[2;36m                    \u001b[0m         \u001b[1;33mFile\u001b[0m ready at                                                 \u001b[2m                        \u001b[0m\n",
       "\u001b[2;36m                    \u001b[0m         \u001b[32m'/Users/jinrirencai/Desktop/linus_manim_media/videos/720p30/M\u001b[0m \u001b[2m                        \u001b[0m\n",
       "\u001b[2;36m                    \u001b[0m         \u001b[32markovChainTester.mp4'\u001b[0m                                         \u001b[2m                        \u001b[0m\n",
       "\u001b[2;36m                    \u001b[0m                                                                       \u001b[2m                        \u001b[0m\n"
      ]
     },
     "metadata": {},
     "output_type": "display_data"
    },
    {
     "data": {
      "text/html": [
       "<pre style=\"white-space:pre;overflow-x:auto;line-height:normal;font-family:Menlo,'DejaVu Sans Mono',consolas,'Courier New',monospace\"><span style=\"color: #7fbfbf; text-decoration-color: #7fbfbf\">                    </span><span style=\"color: #008000; text-decoration-color: #008000\">INFO    </span> <span style=\"color: #808000; text-decoration-color: #808000; font-weight: bold\">Rendered</span> MarkovChainTester                                                <a href=\"file:///Users/jinrirencai/opt/anaconda3/envs/manim/lib/python3.9/site-packages/manim/scene/scene.py\" target=\"_blank\"><span style=\"color: #7f7f7f; text-decoration-color: #7f7f7f\">scene.py</span></a><span style=\"color: #7f7f7f; text-decoration-color: #7f7f7f\">:</span><a href=\"file:///Users/jinrirencai/opt/anaconda3/envs/manim/lib/python3.9/site-packages/manim/scene/scene.py#240\" target=\"_blank\"><span style=\"color: #7f7f7f; text-decoration-color: #7f7f7f\">240</span></a>\n",
       "<span style=\"color: #7fbfbf; text-decoration-color: #7fbfbf\">                    </span>         <span style=\"color: #808000; text-decoration-color: #808000; font-weight: bold\">Played</span> <span style=\"color: #008000; text-decoration-color: #008000\">5</span> <span style=\"color: #808000; text-decoration-color: #808000; font-weight: bold\">animations</span>                                                       <span style=\"color: #7f7f7f; text-decoration-color: #7f7f7f\">            </span>\n",
       "</pre>\n"
      ],
      "text/plain": [
       "\u001b[2;36m                   \u001b[0m\u001b[2;36m \u001b[0m\u001b[32mINFO    \u001b[0m \u001b[1;33mRendered\u001b[0m MarkovChainTester                                                \u001b]8;id=164583;file:///Users/jinrirencai/opt/anaconda3/envs/manim/lib/python3.9/site-packages/manim/scene/scene.py\u001b\\\u001b[2mscene.py\u001b[0m\u001b]8;;\u001b\\\u001b[2m:\u001b[0m\u001b]8;id=581151;file:///Users/jinrirencai/opt/anaconda3/envs/manim/lib/python3.9/site-packages/manim/scene/scene.py#240\u001b\\\u001b[2m240\u001b[0m\u001b]8;;\u001b\\\n",
       "\u001b[2;36m                    \u001b[0m         \u001b[1;33mPlayed\u001b[0m \u001b[32m5\u001b[0m \u001b[1;33manimations\u001b[0m                                                       \u001b[2m            \u001b[0m\n"
      ]
     },
     "metadata": {},
     "output_type": "display_data"
    },
    {
     "data": {
      "text/html": [
       "<pre style=\"white-space:pre;overflow-x:auto;line-height:normal;font-family:Menlo,'DejaVu Sans Mono',consolas,'Courier New',monospace\"><span style=\"color: #7fbfbf; text-decoration-color: #7fbfbf\">                    </span><span style=\"color: #008000; text-decoration-color: #008000\">INFO    </span> Previewed <span style=\"color: #808000; text-decoration-color: #808000; font-weight: bold\">File</span> at:                                                     <a href=\"file:///Users/jinrirencai/opt/anaconda3/envs/manim/lib/python3.9/site-packages/manim/utils/file_ops.py\" target=\"_blank\"><span style=\"color: #7f7f7f; text-decoration-color: #7f7f7f\">file_ops.py</span></a><span style=\"color: #7f7f7f; text-decoration-color: #7f7f7f\">:</span><a href=\"file:///Users/jinrirencai/opt/anaconda3/envs/manim/lib/python3.9/site-packages/manim/utils/file_ops.py#224\" target=\"_blank\"><span style=\"color: #7f7f7f; text-decoration-color: #7f7f7f\">224</span></a>\n",
       "<span style=\"color: #7fbfbf; text-decoration-color: #7fbfbf\">                    </span>         <span style=\"color: #008000; text-decoration-color: #008000\">'/Users/jinrirencai/Desktop/linus_manim_media/videos/720p30/MarkovChai</span> <span style=\"color: #7f7f7f; text-decoration-color: #7f7f7f\">               </span>\n",
       "<span style=\"color: #7fbfbf; text-decoration-color: #7fbfbf\">                    </span>         <span style=\"color: #008000; text-decoration-color: #008000\">nTester.mp4'</span>                                                           <span style=\"color: #7f7f7f; text-decoration-color: #7f7f7f\">               </span>\n",
       "</pre>\n"
      ],
      "text/plain": [
       "\u001b[2;36m                   \u001b[0m\u001b[2;36m \u001b[0m\u001b[32mINFO    \u001b[0m Previewed \u001b[1;33mFile\u001b[0m at:                                                     \u001b]8;id=439453;file:///Users/jinrirencai/opt/anaconda3/envs/manim/lib/python3.9/site-packages/manim/utils/file_ops.py\u001b\\\u001b[2mfile_ops.py\u001b[0m\u001b]8;;\u001b\\\u001b[2m:\u001b[0m\u001b]8;id=225495;file:///Users/jinrirencai/opt/anaconda3/envs/manim/lib/python3.9/site-packages/manim/utils/file_ops.py#224\u001b\\\u001b[2m224\u001b[0m\u001b]8;;\u001b\\\n",
       "\u001b[2;36m                    \u001b[0m         \u001b[32m'/Users/jinrirencai/Desktop/linus_manim_media/videos/720p30/MarkovChai\u001b[0m \u001b[2m               \u001b[0m\n",
       "\u001b[2;36m                    \u001b[0m         \u001b[32mnTester.mp4'\u001b[0m                                                           \u001b[2m               \u001b[0m\n"
      ]
     },
     "metadata": {},
     "output_type": "display_data"
    }
   ],
   "source": [
    "from manim import *\n",
    "'''\n",
    "点击manim会跳转到manim文件夹下的__init__.py文件\n",
    "执行\n",
    "from manim import *\n",
    "命令时会执行\n",
    "manim文件夹下的__init__.py文件\n",
    "而__init__.py文件中是很多submodule中的变量\n",
    "比如:\n",
    "第一个animation是文件夹，第二个animation是python文件\n",
    "点击第一个animation会跳转到animation/__init__.py文件\n",
    "点击第二个animation会跳转到animation/animation.py文件\n",
    "\n",
    "from .animation.animation import *\n",
    "from .animation.changing import *\n",
    "from .animation.composition import *\n",
    "from .animation.creation import *\n",
    "from .animation.fading import *\n",
    "from .animation.growing import *\n",
    "from .animation.indication import *\n",
    "from .animation.movement import *\n",
    "from .animation.numbers import *\n",
    "from .animation.rotation import *\n",
    "'''\n",
    "\n",
    "'''\n",
    "If you would ever contribute a new submodule to Manim, \n",
    "the main __init__.py is where it would have to be listed \n",
    "in order to make its members accessible to users after importing the library.\n",
    "'''\n",
    "\n",
    "# 如果我直接在manim的安装路径下修改代码会生效吗？\n",
    "\n",
    "import numpy as np\n",
    "from linus_markov import MarkovChain, MarkovChainGraph, MarkovChainSimulator\n",
    "\n",
    "np.random.seed(23)\n",
    "\n",
    "class MarkovChainTester(Scene):\n",
    "    def construct(self):\n",
    "        markov_chain = MarkovChain(\n",
    "            4,\n",
    "            [(0, 1), (1, 0), (0, 2), (1, 2), (1, 3), (2, 3), (3, 1)],\n",
    "        )\n",
    "\n",
    "        # 原来字典的key还可以是数字，真神奇\n",
    "        state_color_map = {}\n",
    "        state_color_map[0] = RED\n",
    "        state_color_map[1] = BLUE\n",
    "        state_color_map[2] = GREEN\n",
    "        state_color_map[3] = YELLOW\n",
    "\n",
    "        # 这个labels参数是设置显示每一个节点的\n",
    "        markov_chain_g = MarkovChainGraph(\n",
    "                                    labels=True,\n",
    "                                    markov_chain=markov_chain, \n",
    "                                    enable_curved_double_arrows=False,\n",
    "                                    state_color_map=state_color_map\n",
    "                                    \n",
    "        )\n",
    "        markov_chain_t_labels = markov_chain_g.get_transition_labels()\n",
    "\n",
    "        print(type(markov_chain_g), type(markov_chain_t_labels))\n",
    "        # 马尔科夫链状态转换\n",
    "        self.play(FadeIn(markov_chain_g))\n",
    "        # linus 概率\n",
    "        self.play(FadeIn(markov_chain_t_labels))\n",
    "        self.wait()\n",
    "\n",
    "        #########################################################################################################################\n",
    "        #linus 真是牛逼的创造力\n",
    "        markov_chain_sim = MarkovChainSimulator(\n",
    "            markov_chain, markov_chain_g, num_users=50\n",
    "        )\n",
    "       \n",
    "        users = markov_chain_sim.get_users()\n",
    "\n",
    "        # *[]\n",
    "        self.play(*[FadeIn(user) for user in users])\n",
    "        self.wait()\n",
    "\n",
    "        #linus 相当厉害了\n",
    "        # num_steps = 5\n",
    "        # for _ in range(num_steps):\n",
    "        #     transition_animations = markov_chain_sim.get_instant_transition_animations()\n",
    "        #     self.play(*transition_animations)\n",
    "        # self.wait()\n",
    "        \n",
    "        # #linus 这两种节点转移效果是咋实现的\n",
    "        # for _ in range(num_steps):\n",
    "        #     transition_map = markov_chain_sim.get_lagged_smooth_transition_animations()\n",
    "        #     self.play(\n",
    "        #         *[LaggedStart(*transition_map[i]) for i in markov_chain.get_states()]\n",
    "        #     )\n",
    "        #     self.wait()\n",
    "\n",
    "with tempconfig({\"quality\": \"medium_quality\", \"preview\": True}):\n",
    "    scene = MarkovChainTester()\n",
    "    scene.render()"
   ]
  },
  {
   "cell_type": "code",
   "execution_count": null,
   "metadata": {},
   "outputs": [],
   "source": [
    "from manim import *\n",
    "from linus_markov import MarkovChain, MarkovChainGraph, MarkovChainSimulator\n",
    "\n",
    "class MarkovChainTester(Scene):\n",
    "    def construct(self):\n",
    "        markov_chain = MarkovChain(\n",
    "            4,\n",
    "            [(0, 1), (1, 0), (0, 2), (1, 2), (1, 3), (2, 3), (3, 1)],\n",
    "        )\n",
    "\n",
    "        print(dir(markov_chain))\n",
    "\n",
    "        #linus [0, 1, 2, 3]\n",
    "        print(markov_chain.get_states())\n",
    "\n",
    "        #linus [(0, 1), (1, 0), (0, 2), (1, 2), (1, 3), (2, 3), (3, 1)]\n",
    "        print(markov_chain.get_edges())\n",
    "\n",
    "        #linus [0.25 0.25 0.25 0.25]\n",
    "        print(markov_chain.get_current_dist())\n",
    "\n",
    "        #linus {0: [1, 2], 1: [0, 2, 3], 2: [3], 3: [1]}\n",
    "        print(markov_chain.get_adjacency_list())\n",
    "        \n",
    "        '''\n",
    "        [[0.         0.5        0.5        0.        ]\n",
    "        [0.33333333 0.         0.33333333 0.33333333]\n",
    "        [0.         0.         0.         1.        ]\n",
    "        [0.         1.         0.         0.        ]]\n",
    "        '''\n",
    "        print(markov_chain.get_transition_matrix())\n",
    "\n",
    "        # 原来字典的key还可以是数字，真神奇\n",
    "        state_color_map = {}\n",
    "        state_color_map[0] = RED\n",
    "        state_color_map[1] = BLUE\n",
    "        state_color_map[2] = GREEN\n",
    "        state_color_map[3] = YELLOW\n",
    "\n",
    "        # 这个labels参数是设置显示每一个节点的\n",
    "        markov_chain_g = MarkovChainGraph(\n",
    "                                    labels=True,\n",
    "                                    markov_chain=markov_chain, \n",
    "                                    enable_curved_double_arrows=False,\n",
    "                                    state_color_map=state_color_map\n",
    "                                    \n",
    "        )\n",
    "        markov_chain_t_labels = markov_chain_g.get_transition_labels()\n",
    "\n",
    "        # 马尔科夫链状态转换\n",
    "        self.play(FadeIn(markov_chain_g))\n",
    "        # linus 概率\n",
    "        self.play(FadeIn(markov_chain_t_labels))\n",
    "        self.wait()\n",
    "\n",
    "        #########################################################################################################################\n",
    "        #linus 真是牛逼的创造力\n",
    "        markov_chain_sim = MarkovChainSimulator(\n",
    "            markov_chain, markov_chain_g, num_users=50\n",
    "        )\n",
    "        ''' return self.users\n",
    "        self.users = [\n",
    "            Dot(radius=self.user_radius)\n",
    "            .set_color(REDUCIBLE_YELLOW)\n",
    "            .set_opacity(0.6)\n",
    "            .set_stroke(REDUCIBLE_YELLOW, width=2, opacity=0.8)\n",
    "            for _ in range(self.num_users)\n",
    "        ]\n",
    "        '''\n",
    "        users = markov_chain_sim.get_users()\n",
    "\n",
    "        self.play(*[FadeIn(user) for user in users])\n",
    "        self.wait()\n",
    "\n",
    "        #linus 相当厉害了\n",
    "        num_steps = 10\n",
    "        for _ in range(num_steps):\n",
    "            transition_animations = markov_chain_sim.get_instant_transition_animations()\n",
    "            self.play(*transition_animations)\n",
    "        self.wait()\n",
    "        \n",
    "        #linus 这两种节点转移效果是咋实现的\n",
    "        for _ in range(num_steps):\n",
    "            transition_map = markov_chain_sim.get_lagged_smooth_transition_animations()\n",
    "            self.play(\n",
    "                *[LaggedStart(*transition_map[i]) for i in markov_chain.get_states()]\n",
    "            )\n",
    "            self.wait()\n",
    "\n",
    "with tempconfig({\"quality\": \"medium_quality\", \"preview\": True}):\n",
    "    scene = MarkovChainTester()\n",
    "    scene.render()"
   ]
  },
  {
   "cell_type": "code",
   "execution_count": null,
   "metadata": {},
   "outputs": [],
   "source": []
  },
  {
   "cell_type": "code",
   "execution_count": null,
   "metadata": {},
   "outputs": [],
   "source": [
    "from manim import *\n",
    "\n",
    "class LinearNN(Scene):\n",
    "    def construct(self):\n",
    "        edges = []\n",
    "        partitions = []\n",
    "        c = 0\n",
    "        layers = [2, 4, 4, 3]  # the number of neurons in each layer \n",
    "\n",
    "        for i in layers:\n",
    "            partitions.append(list(range(c + 1, c + i + 1)))\n",
    "            c += i\n",
    "        print(\"{}: {}\".format('partitions', partitions))\n",
    "\n",
    "        for i, v in enumerate(layers[1:]):\n",
    "                last = sum(layers[:i+1])\n",
    "                for j in range(v):\n",
    "                    for k in range(last - layers[i], last):\n",
    "                        edges.append((k + 1, j + last + 1))\n",
    "        print(\"{}: {}\".format('edges', edges))\n",
    "\n",
    "        vertices = np.arange(1, sum(layers) + 1)\n",
    "        print(\"{}: {}\".format('vertices', vertices))\n",
    "\n",
    "        graph = Graph(\n",
    "            vertices,\n",
    "            edges,\n",
    "            layout='partite',\n",
    "            partitions=partitions,\n",
    "            layout_scale=3,\n",
    "            vertex_config={'radius': 0.20, 'color': GREEN},\n",
    "        )\n",
    "        self.add(graph)\n",
    "\n",
    "with tempconfig({\"quality\": \"high_quality\", \"preview\": True}):\n",
    "    scene = LinearNN()\n",
    "    scene.render()"
   ]
  },
  {
   "cell_type": "code",
   "execution_count": null,
   "metadata": {},
   "outputs": [],
   "source": []
  },
  {
   "cell_type": "code",
   "execution_count": null,
   "metadata": {},
   "outputs": [],
   "source": []
  },
  {
   "cell_type": "code",
   "execution_count": null,
   "metadata": {},
   "outputs": [],
   "source": [
    "from manim import *\n",
    "\n",
    "\n",
    "# 这是一个绝佳的例子，显示如何自定义类\n",
    "class CustomLabel(Text):\n",
    "    def __init__(self, label, font=\"SF Mono\", scale=1.5, weight=BOLD, color=YELLOW):\n",
    "        # 父类的初始化函数有4个参数：text、font、color、weight，以key=value传递时，顺序无所谓\n",
    "        super().__init__(text=label, font=font, color=color, weight=weight)\n",
    "        self.scale(scale)\n",
    "        self.color = RED\n",
    "\n",
    "\n",
    "class CustomCurvedArrow(CurvedArrow):\n",
    "    def __init__(self, start, end, tip_length=0.15, **kwargs):\n",
    "\n",
    "        super().__init__(start, end, **kwargs)\n",
    "        self.pop_tips()\n",
    "\n",
    "        # 很好奇，从manim已经导入可*，为何这个变量还没有导入呢？\n",
    "        from manim.mobject.geometry.tips import ArrowTriangleFilledTip\n",
    "\n",
    "        self.add_tip(\n",
    "            tip_shape=ArrowTriangleFilledTip,\n",
    "            tip_length=tip_length,\n",
    "            at_start=False,\n",
    "        )\n",
    "        self.tip.z_index = -100\n",
    "\n",
    "    # 这个函数是不是多次一举了？既然是继承，子类就可以直接调用父类的set_opacity()函数\n",
    "    # 经过测试，确实多此一举了。\n",
    "    # 不过下面有一个高端操作，可能是为了和高端操作打配合。\n",
    "    def set_opacity(self, opacity, family=True):\n",
    "        #linus 通过父类的函数赋值，没想到。深度思考，常问本质！\n",
    "        return super().set_opacity(opacity, family)\n",
    "\n",
    "    #linus 高端操作\n",
    "    @override_animate(set_opacity)\n",
    "    def _set_opacity_animation(self, opacity=1, anim_args=None):\n",
    "        if anim_args is None:\n",
    "            anim_args = {}\n",
    "\n",
    "        animate_stroke = self.animate.set_stroke(opacity=opacity)\n",
    "        animate_tip = self.tip.animate.set_opacity(opacity)\n",
    "\n",
    "        return AnimationGroup(*[animate_stroke, animate_tip])\n",
    "\n",
    "\n",
    "class ToyExample(Scene):\n",
    "    def construct(self):\n",
    "        # 可以自定义生成视频的位置\n",
    "        self.media_dir = '../../linus_manim_media'\n",
    "\n",
    "        # 自定义的两个类\n",
    "        arrow = CustomCurvedArrow([0, 0, 1], [0, 1, 2]).move_to(LEFT*2).set_opacity(0.2)\n",
    "        custom_text = CustomLabel(\"我爱\").move_to(UP*2)\n",
    "\n",
    "        # 原生的类\n",
    "        text = Text('Hello world').move_to(DOWN*2)\n",
    "        orange_square = Square(color=BLUE, fill_opacity=0.5)\n",
    "\n",
    "        self.add(orange_square, text, custom_text, arrow)\n",
    "        \n",
    "\n",
    "with tempconfig({\"quality\": \"high_quality\", \"preview\": True}):\n",
    "    scene = ToyExample()\n",
    "    scene.render()\n"
   ]
  },
  {
   "cell_type": "code",
   "execution_count": null,
   "metadata": {},
   "outputs": [],
   "source": [
    "def fun(a=1, b=2):\n",
    "    return a + b\n",
    "\n",
    "fun(a=1,b=2)"
   ]
  },
  {
   "cell_type": "code",
   "execution_count": null,
   "metadata": {},
   "outputs": [],
   "source": [
    "fun(b=2, a=1)"
   ]
  },
  {
   "cell_type": "code",
   "execution_count": null,
   "metadata": {},
   "outputs": [],
   "source": []
  },
  {
   "cell_type": "code",
   "execution_count": null,
   "metadata": {},
   "outputs": [],
   "source": []
  }
 ],
 "metadata": {
  "kernelspec": {
   "display_name": "Python 3.9.12 ('manim')",
   "language": "python",
   "name": "python3"
  },
  "language_info": {
   "codemirror_mode": {
    "name": "ipython",
    "version": 3
   },
   "file_extension": ".py",
   "mimetype": "text/x-python",
   "name": "python",
   "nbconvert_exporter": "python",
   "pygments_lexer": "ipython3",
   "version": "3.9.12"
  },
  "orig_nbformat": 4,
  "vscode": {
   "interpreter": {
    "hash": "5192550f63379118a2cd15121a1af7d166ca08bc5ab0b5f5b66b466686c1270c"
   }
  }
 },
 "nbformat": 4,
 "nbformat_minor": 2
}
