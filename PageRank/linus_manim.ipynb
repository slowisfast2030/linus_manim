{
 "cells": [
  {
   "cell_type": "code",
   "execution_count": 62,
   "metadata": {},
   "outputs": [
    {
     "data": {
      "text/html": [
       "<pre style=\"white-space:pre;overflow-x:auto;line-height:normal;font-family:Menlo,'DejaVu Sans Mono',consolas,'Courier New',monospace\"><span style=\"color: #7fbfbf; text-decoration-color: #7fbfbf\">[08/25/22 23:48:12] </span><span style=\"color: #008000; text-decoration-color: #008000\">INFO    </span>                                                               <a href=\"file:///opt/anaconda3/envs/manim/lib/python3.9/site-packages/manim/scene/scene_file_writer.py\" target=\"_blank\"><span style=\"color: #7f7f7f; text-decoration-color: #7f7f7f\">scene_file_writer.py</span></a><span style=\"color: #7f7f7f; text-decoration-color: #7f7f7f\">:</span><a href=\"file:///opt/anaconda3/envs/manim/lib/python3.9/site-packages/manim/scene/scene_file_writer.py#728\" target=\"_blank\"><span style=\"color: #7f7f7f; text-decoration-color: #7f7f7f\">728</span></a>\n",
       "<span style=\"color: #7fbfbf; text-decoration-color: #7fbfbf\">                    </span>         <span style=\"color: #808000; text-decoration-color: #808000; font-weight: bold\">File</span> ready at                                                 <span style=\"color: #7f7f7f; text-decoration-color: #7f7f7f\">                        </span>\n",
       "<span style=\"color: #7fbfbf; text-decoration-color: #7fbfbf\">                    </span>         <span style=\"color: #008000; text-decoration-color: #008000\">'/Users/linus/Desktop/linus_manim_media/images/ToyExample_Man</span> <span style=\"color: #7f7f7f; text-decoration-color: #7f7f7f\">                        </span>\n",
       "<span style=\"color: #7fbfbf; text-decoration-color: #7fbfbf\">                    </span>         <span style=\"color: #008000; text-decoration-color: #008000\">imCE_v0.16.0.post0.png'</span>                                       <span style=\"color: #7f7f7f; text-decoration-color: #7f7f7f\">                        </span>\n",
       "<span style=\"color: #7fbfbf; text-decoration-color: #7fbfbf\">                    </span>                                                                       <span style=\"color: #7f7f7f; text-decoration-color: #7f7f7f\">                        </span>\n",
       "</pre>\n"
      ],
      "text/plain": [
       "\u001b[2;36m[08/25/22 23:48:12]\u001b[0m\u001b[2;36m \u001b[0m\u001b[32mINFO    \u001b[0m                                                               \u001b]8;id=813790;file:///opt/anaconda3/envs/manim/lib/python3.9/site-packages/manim/scene/scene_file_writer.py\u001b\\\u001b[2mscene_file_writer.py\u001b[0m\u001b]8;;\u001b\\\u001b[2m:\u001b[0m\u001b]8;id=499656;file:///opt/anaconda3/envs/manim/lib/python3.9/site-packages/manim/scene/scene_file_writer.py#728\u001b\\\u001b[2m728\u001b[0m\u001b]8;;\u001b\\\n",
       "\u001b[2;36m                    \u001b[0m         \u001b[1;33mFile\u001b[0m ready at                                                 \u001b[2m                        \u001b[0m\n",
       "\u001b[2;36m                    \u001b[0m         \u001b[32m'/Users/linus/Desktop/linus_manim_media/images/ToyExample_Man\u001b[0m \u001b[2m                        \u001b[0m\n",
       "\u001b[2;36m                    \u001b[0m         \u001b[32mimCE_v0.16.0.post0.png'\u001b[0m                                       \u001b[2m                        \u001b[0m\n",
       "\u001b[2;36m                    \u001b[0m                                                                       \u001b[2m                        \u001b[0m\n"
      ]
     },
     "metadata": {},
     "output_type": "display_data"
    },
    {
     "data": {
      "text/html": [
       "<pre style=\"white-space:pre;overflow-x:auto;line-height:normal;font-family:Menlo,'DejaVu Sans Mono',consolas,'Courier New',monospace\"><span style=\"color: #7fbfbf; text-decoration-color: #7fbfbf\">                    </span><span style=\"color: #008000; text-decoration-color: #008000\">INFO    </span> <span style=\"color: #808000; text-decoration-color: #808000; font-weight: bold\">Rendered</span> ToyExample                                                       <a href=\"file:///opt/anaconda3/envs/manim/lib/python3.9/site-packages/manim/scene/scene.py\" target=\"_blank\"><span style=\"color: #7f7f7f; text-decoration-color: #7f7f7f\">scene.py</span></a><span style=\"color: #7f7f7f; text-decoration-color: #7f7f7f\">:</span><a href=\"file:///opt/anaconda3/envs/manim/lib/python3.9/site-packages/manim/scene/scene.py#240\" target=\"_blank\"><span style=\"color: #7f7f7f; text-decoration-color: #7f7f7f\">240</span></a>\n",
       "<span style=\"color: #7fbfbf; text-decoration-color: #7fbfbf\">                    </span>         <span style=\"color: #808000; text-decoration-color: #808000; font-weight: bold\">Played</span> <span style=\"color: #008000; text-decoration-color: #008000\">0</span> <span style=\"color: #808000; text-decoration-color: #808000; font-weight: bold\">animations</span>                                                       <span style=\"color: #7f7f7f; text-decoration-color: #7f7f7f\">            </span>\n",
       "</pre>\n"
      ],
      "text/plain": [
       "\u001b[2;36m                   \u001b[0m\u001b[2;36m \u001b[0m\u001b[32mINFO    \u001b[0m \u001b[1;33mRendered\u001b[0m ToyExample                                                       \u001b]8;id=46071;file:///opt/anaconda3/envs/manim/lib/python3.9/site-packages/manim/scene/scene.py\u001b\\\u001b[2mscene.py\u001b[0m\u001b]8;;\u001b\\\u001b[2m:\u001b[0m\u001b]8;id=274087;file:///opt/anaconda3/envs/manim/lib/python3.9/site-packages/manim/scene/scene.py#240\u001b\\\u001b[2m240\u001b[0m\u001b]8;;\u001b\\\n",
       "\u001b[2;36m                    \u001b[0m         \u001b[1;33mPlayed\u001b[0m \u001b[32m0\u001b[0m \u001b[1;33manimations\u001b[0m                                                       \u001b[2m            \u001b[0m\n"
      ]
     },
     "metadata": {},
     "output_type": "display_data"
    },
    {
     "data": {
      "text/html": [
       "<pre style=\"white-space:pre;overflow-x:auto;line-height:normal;font-family:Menlo,'DejaVu Sans Mono',consolas,'Courier New',monospace\"><span style=\"color: #7fbfbf; text-decoration-color: #7fbfbf\">                    </span><span style=\"color: #008000; text-decoration-color: #008000\">INFO    </span> Previewed <span style=\"color: #808000; text-decoration-color: #808000; font-weight: bold\">File</span> at:                                                     <a href=\"file:///opt/anaconda3/envs/manim/lib/python3.9/site-packages/manim/utils/file_ops.py\" target=\"_blank\"><span style=\"color: #7f7f7f; text-decoration-color: #7f7f7f\">file_ops.py</span></a><span style=\"color: #7f7f7f; text-decoration-color: #7f7f7f\">:</span><a href=\"file:///opt/anaconda3/envs/manim/lib/python3.9/site-packages/manim/utils/file_ops.py#224\" target=\"_blank\"><span style=\"color: #7f7f7f; text-decoration-color: #7f7f7f\">224</span></a>\n",
       "<span style=\"color: #7fbfbf; text-decoration-color: #7fbfbf\">                    </span>         <span style=\"color: #008000; text-decoration-color: #008000\">'/Users/linus/Desktop/linus_manim_media/images/ToyExample_ManimCE_v0.1</span> <span style=\"color: #7f7f7f; text-decoration-color: #7f7f7f\">               </span>\n",
       "<span style=\"color: #7fbfbf; text-decoration-color: #7fbfbf\">                    </span>         <span style=\"color: #008000; text-decoration-color: #008000\">6.0.post0.png'</span>                                                         <span style=\"color: #7f7f7f; text-decoration-color: #7f7f7f\">               </span>\n",
       "</pre>\n"
      ],
      "text/plain": [
       "\u001b[2;36m                   \u001b[0m\u001b[2;36m \u001b[0m\u001b[32mINFO    \u001b[0m Previewed \u001b[1;33mFile\u001b[0m at:                                                     \u001b]8;id=506954;file:///opt/anaconda3/envs/manim/lib/python3.9/site-packages/manim/utils/file_ops.py\u001b\\\u001b[2mfile_ops.py\u001b[0m\u001b]8;;\u001b\\\u001b[2m:\u001b[0m\u001b]8;id=301949;file:///opt/anaconda3/envs/manim/lib/python3.9/site-packages/manim/utils/file_ops.py#224\u001b\\\u001b[2m224\u001b[0m\u001b]8;;\u001b\\\n",
       "\u001b[2;36m                    \u001b[0m         \u001b[32m'/Users/linus/Desktop/linus_manim_media/images/ToyExample_ManimCE_v0.1\u001b[0m \u001b[2m               \u001b[0m\n",
       "\u001b[2;36m                    \u001b[0m         \u001b[32m6.0.post0.png'\u001b[0m                                                         \u001b[2m               \u001b[0m\n"
      ]
     },
     "metadata": {},
     "output_type": "display_data"
    }
   ],
   "source": [
    "from manim import *\n",
    "\n",
    "\n",
    "# 这是一个绝佳的例子，显示如何自定义类\n",
    "class CustomLabel(Text):\n",
    "    def __init__(self, label, font=\"SF Mono\", scale=1.5, weight=BOLD, color=YELLOW):\n",
    "        # 父类的初始化函数有4个参数：text、font、color、weight，以key=value传递时，顺序无所谓\n",
    "        super().__init__(text=label, font=font, color=color, weight=weight)\n",
    "        self.scale(scale)\n",
    "        self.color = RED\n",
    "\n",
    "\n",
    "class CustomCurvedArrow(CurvedArrow):\n",
    "    def __init__(self, start, end, tip_length=0.15, **kwargs):\n",
    "\n",
    "        super().__init__(start, end, **kwargs)\n",
    "        self.pop_tips()\n",
    "\n",
    "        # 很好奇，从manim已经导入可*，为何这个变量还没有导入呢？\n",
    "        from manim.mobject.geometry.tips import ArrowTriangleFilledTip\n",
    "\n",
    "        self.add_tip(\n",
    "            tip_shape=ArrowTriangleFilledTip,\n",
    "            tip_length=tip_length,\n",
    "            at_start=False,\n",
    "        )\n",
    "        self.tip.z_index = -100\n",
    "\n",
    "    # 这个函数是不是多次一举了？既然是继承，子类就可以直接调用父类的set_opacity()函数\n",
    "    # 经过测试，确实多此一举了。\n",
    "    # 不过下面有一个高端操作，可能是为了和高端操作打配合。\n",
    "    def set_opacity(self, opacity, family=True):\n",
    "        #linus 通过父类的函数赋值，没想到。深度思考，常问本质！\n",
    "        return super().set_opacity(opacity, family)\n",
    "\n",
    "    #linus 高端操作\n",
    "    @override_animate(set_opacity)\n",
    "    def _set_opacity_animation(self, opacity=1, anim_args=None):\n",
    "        if anim_args is None:\n",
    "            anim_args = {}\n",
    "\n",
    "        animate_stroke = self.animate.set_stroke(opacity=opacity)\n",
    "        animate_tip = self.tip.animate.set_opacity(opacity)\n",
    "\n",
    "        return AnimationGroup(*[animate_stroke, animate_tip])\n",
    "\n",
    "\n",
    "class ToyExample(Scene):\n",
    "    def construct(self):\n",
    "        # 可以自定义生成视频的位置\n",
    "        self.media_dir = '../../linus_manim_media'\n",
    "\n",
    "        # 自定义的两个类\n",
    "        arrow = CustomCurvedArrow([0, 0, 1], [0, 1, 2]).move_to(LEFT*2).set_opacity(0.2)\n",
    "        custom_text = CustomLabel(\"我爱\").move_to(UP*2)\n",
    "\n",
    "        # 原生的类\n",
    "        text = Text('Hello world').move_to(DOWN*2)\n",
    "        orange_square = Square(color=BLUE, fill_opacity=0.5)\n",
    "\n",
    "        self.add(orange_square, text, custom_text, arrow)\n",
    "        \n",
    "\n",
    "with tempconfig({\"quality\": \"high_quality\", \"preview\": True}):\n",
    "    scene = ToyExample()\n",
    "    scene.render()\n"
   ]
  },
  {
   "cell_type": "code",
   "execution_count": 28,
   "metadata": {},
   "outputs": [
    {
     "data": {
      "text/plain": [
       "3"
      ]
     },
     "execution_count": 28,
     "metadata": {},
     "output_type": "execute_result"
    }
   ],
   "source": [
    "def fun(a=1, b=2):\n",
    "    return a + b\n",
    "\n",
    "fun(a=1,b=2)"
   ]
  },
  {
   "cell_type": "code",
   "execution_count": 29,
   "metadata": {},
   "outputs": [
    {
     "data": {
      "text/plain": [
       "3"
      ]
     },
     "execution_count": 29,
     "metadata": {},
     "output_type": "execute_result"
    }
   ],
   "source": [
    "fun(b=2, a=1)"
   ]
  },
  {
   "cell_type": "code",
   "execution_count": null,
   "metadata": {},
   "outputs": [],
   "source": []
  },
  {
   "cell_type": "code",
   "execution_count": null,
   "metadata": {},
   "outputs": [],
   "source": []
  }
 ],
 "metadata": {
  "kernelspec": {
   "display_name": "Python 3.9.13 ('manim')",
   "language": "python",
   "name": "python3"
  },
  "language_info": {
   "codemirror_mode": {
    "name": "ipython",
    "version": 3
   },
   "file_extension": ".py",
   "mimetype": "text/x-python",
   "name": "python",
   "nbconvert_exporter": "python",
   "pygments_lexer": "ipython3",
   "version": "3.9.13"
  },
  "orig_nbformat": 4,
  "vscode": {
   "interpreter": {
    "hash": "65d32fbfc5ffa91aa4e18b2389fffe7719f4f164e0101283110b80fb70d8eb02"
   }
  }
 },
 "nbformat": 4,
 "nbformat_minor": 2
}
