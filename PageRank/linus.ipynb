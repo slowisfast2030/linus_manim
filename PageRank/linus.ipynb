{
 "cells": [
  {
   "cell_type": "code",
   "execution_count": 1,
   "metadata": {},
   "outputs": [
    {
     "name": "stdout",
     "output_type": "stream",
     "text": [
      "{'num1': <class 'int'>, 'num2': <class 'int'>, 'return': <class 'int'>}\n",
      "3\n",
      "101\n",
      "I love Arsenal\n"
     ]
    }
   ],
   "source": [
    "def twoSum(num1: int, num2: int=100) -> int:\n",
    "    sum = num1 + num2\n",
    "    return sum  \n",
    "\n",
    "if __name__ == \"__main__\":\n",
    "    print(twoSum.__annotations__)\n",
    "    print(twoSum(1,2))\n",
    "    print(twoSum(1))\n",
    "    print(twoSum('I love ','Arsenal'))"
   ]
  },
  {
   "cell_type": "code",
   "execution_count": 11,
   "metadata": {},
   "outputs": [],
   "source": [
    "with open('./text', 'w') as fo:\n",
    "    print('hello') "
   ]
  },
  {
   "cell_type": "code",
   "execution_count": 28,
   "metadata": {},
   "outputs": [
    {
     "name": "stdout",
     "output_type": "stream",
     "text": [
      "转移矩阵: \n",
      " [[0.8 0.2]\n",
      " [0.4 0.6]]\n",
      "\n",
      "\n",
      "转移矩阵转置: \n",
      " [[0.8 0.4]\n",
      " [0.2 0.6]]\n",
      "\n",
      "\n",
      "特征值: \n",
      " [1.  0.4]\n",
      "\n",
      "\n",
      "特征向量: \n",
      " [[ 0.89442719 -0.70710678]\n",
      " [ 0.4472136   0.70710678]]\n",
      "\n",
      "\n",
      "第一个特征值对应的特征向量: \n",
      " [[0.89442719]\n",
      " [0.4472136 ]]\n"
     ]
    }
   ],
   "source": [
    "transition_matrix = np.matrix([[0.8, 0.2],\n",
    "                    [0.4, 0.6]], dtype=float)\n",
    "print(\"转移矩阵: \\n\", transition_matrix)\n",
    "\n",
    "print('\\n')\n",
    "transition_matrix_T = np.transpose(transition_matrix)\n",
    "print(\"转移矩阵转置: \\n\", transition_matrix_T)\n",
    "\n",
    "print('\\n')\n",
    "print(\"特征值: \\n\", np.linalg.eig(transition_matrix_T)[0])\n",
    "\n",
    "print('\\n')\n",
    "print(\"特征向量: \\n\", np.linalg.eig(transition_matrix_T)[1])\n",
    "\n",
    "print('\\n')\n",
    "print(\"第一个特征值对应的特征向量: \\n\", np.linalg.eig(transition_matrix_T)[1][:,0])"
   ]
  },
  {
   "cell_type": "code",
   "execution_count": null,
   "metadata": {},
   "outputs": [],
   "source": []
  },
  {
   "cell_type": "code",
   "execution_count": 14,
   "metadata": {},
   "outputs": [
    {
     "name": "stdout",
     "output_type": "stream",
     "text": [
      "test_class_without_ini:\n",
      "father \n",
      "\n",
      "test_class_with_super:\n",
      "child_father\n",
      "child \n",
      "\n",
      "test_class_with_ini:\n",
      "child\n"
     ]
    },
    {
     "ename": "AttributeError",
     "evalue": "'child_with_ini' object has no attribute 'father_attribute'",
     "output_type": "error",
     "traceback": [
      "\u001b[0;31m---------------------------------------------------------------------------\u001b[0m",
      "\u001b[0;31mAttributeError\u001b[0m                            Traceback (most recent call last)",
      "\u001b[1;32m/Users/linus/Desktop/linus_manim/PageRank/linus.ipynb Cell 11\u001b[0m in \u001b[0;36m<cell line: 34>\u001b[0;34m()\u001b[0m\n\u001b[1;32m     <a href='vscode-notebook-cell:/Users/linus/Desktop/linus_manim/PageRank/linus.ipynb#X13sZmlsZQ%3D%3D?line=31'>32</a>\u001b[0m \u001b[39mprint\u001b[39m(\u001b[39m\"\u001b[39m\u001b[39mtest_class_with_ini:\u001b[39m\u001b[39m\"\u001b[39m)\n\u001b[1;32m     <a href='vscode-notebook-cell:/Users/linus/Desktop/linus_manim/PageRank/linus.ipynb#X13sZmlsZQ%3D%3D?line=32'>33</a>\u001b[0m \u001b[39mprint\u001b[39m(test_class_with_ini\u001b[39m.\u001b[39mchild_attribute)\n\u001b[0;32m---> <a href='vscode-notebook-cell:/Users/linus/Desktop/linus_manim/PageRank/linus.ipynb#X13sZmlsZQ%3D%3D?line=33'>34</a>\u001b[0m \u001b[39mprint\u001b[39m(test_class_with_ini\u001b[39m.\u001b[39;49mfather_attribute)\n",
      "\u001b[0;31mAttributeError\u001b[0m: 'child_with_ini' object has no attribute 'father_attribute'"
     ]
    }
   ],
   "source": [
    "class father:\n",
    "    def __init__(self, father_attribute = \"father\"):\n",
    "        self.father_attribute = father_attribute\n",
    "\n",
    "class child_without_ini(father):\n",
    "    pass\n",
    "\n",
    "class child_with_ini(father):\n",
    "    def __init__(self, child_attribute):\n",
    "        self.child_attribute = child_attribute\n",
    "\n",
    "class child_with_super(father):\n",
    "    def __init__(self,father_attribute, child_attribute):\n",
    "        self.child_attribute = child_attribute\n",
    "        super().__init__(father_attribute)\n",
    "\n",
    "test_class_without_ini = child_without_ini()\n",
    "test_class_with_ini = child_with_ini('child')\n",
    "test_class_with_super = child_with_super('child_father', 'child')\n",
    "\n",
    "\n",
    "#linus 自动继承父类所有的属性\n",
    "print(\"test_class_without_ini:\")\n",
    "print(test_class_without_ini.father_attribute, \"\\n\")\n",
    "\n",
    "#linus 不仅仅有父类属性，还有子类的属性\n",
    "print(\"test_class_with_super:\")\n",
    "print(test_class_with_super.father_attribute)\n",
    "print(test_class_with_super.child_attribute, \"\\n\")\n",
    "\n",
    "#linus 父类的初始化函数被覆盖\n",
    "print(\"test_class_with_ini:\")\n",
    "print(test_class_with_ini.child_attribute)\n",
    "print(test_class_with_ini.father_attribute)\n",
    "\n",
    "#linsu 深度思考\n",
    "'''\n",
    "每个类的函数都保存在内存的一个地方，有一个指针可以定位。\n",
    "当类初始化的时候，就会通过对应的指针调用对应的__init__()函数。\n",
    "当类调用某一个函数的时候，也会通过对应的指针调用对应的函数。\n",
    "\n",
    "当继承的时候，子类可以用的指针就包括父类的所有函数指针和子类所有的函数指针。\n",
    "如果子类和函数和父类函数的函数名重命了，就会调用子类的函数。\n",
    "如果在重命的情况下，有没有办法仍然调用父类的函数呢？有，通过super().funname()\n",
    "'''"
   ]
  },
  {
   "cell_type": "code",
   "execution_count": 9,
   "metadata": {},
   "outputs": [
    {
     "name": "stdout",
     "output_type": "stream",
     "text": [
      "childfather\n",
      "childfather\n"
     ]
    }
   ],
   "source": [
    "#linus 非常漂亮的一个🌰\n",
    "class father:\n",
    "    def __init__(self, father_attribute = \"father\"):\n",
    "        self.father_attribute = father_attribute\n",
    "    \n",
    "    def get_name(self):\n",
    "        return self.father_attribute\n",
    "\n",
    "class child_with_ini(father):\n",
    "    def __init__(self, child_attribute):\n",
    "        self.child_attribute = child_attribute\n",
    "        super().__init__()\n",
    "    \n",
    "    def get_name(self):\n",
    "        return self.child_attribute + super().get_name()\n",
    "\n",
    "test_class_with_ini = child_with_ini('child')\n",
    "print(test_class_with_ini.child_attribute + test_class_with_ini.father_attribute)\n",
    "print(test_class_with_ini.get_name())\n"
   ]
  },
  {
   "cell_type": "code",
   "execution_count": 3,
   "metadata": {},
   "outputs": [
    {
     "data": {
      "text/html": [
       "<pre style=\"white-space:pre;overflow-x:auto;line-height:normal;font-family:Menlo,'DejaVu Sans Mono',consolas,'Courier New',monospace\">Manim Community <span style=\"color: #008000; text-decoration-color: #008000\">v0.16.0.post0</span>\n",
       "\n",
       "</pre>\n"
      ],
      "text/plain": [
       "Manim Community \u001b[32mv0.\u001b[0m\u001b[32m16.0\u001b[0m\u001b[32m.post0\u001b[0m\n",
       "\n"
      ]
     },
     "metadata": {},
     "output_type": "display_data"
    }
   ],
   "source": [
    "from manim import *\n",
    "\n",
    "state_color_map = {}\n",
    "state_color_map[1] = RED\n",
    "state_color_map[2] = BLUE\n",
    "state_color_map[3] = GREEN\n",
    "state_color_map[4] = YELLOW"
   ]
  },
  {
   "cell_type": "code",
   "execution_count": 4,
   "metadata": {},
   "outputs": [
    {
     "data": {
      "text/plain": [
       "{1: '#FC6255', 2: '#58C4DD', 3: '#83C167', 4: '#FFFF00'}"
      ]
     },
     "execution_count": 4,
     "metadata": {},
     "output_type": "execute_result"
    }
   ],
   "source": [
    "state_color_map"
   ]
  },
  {
   "cell_type": "code",
   "execution_count": 5,
   "metadata": {},
   "outputs": [
    {
     "name": "stdout",
     "output_type": "stream",
     "text": [
      "{1: '#FC6255', 2: '#58C4DD', 3: '#83C167', 4: '#FFFF00'}\n"
     ]
    }
   ],
   "source": [
    "print(state_color_map)"
   ]
  },
  {
   "cell_type": "code",
   "execution_count": null,
   "metadata": {},
   "outputs": [],
   "source": []
  }
 ],
 "metadata": {
  "kernelspec": {
   "display_name": "Python 3.9.13 ('manim')",
   "language": "python",
   "name": "python3"
  },
  "language_info": {
   "codemirror_mode": {
    "name": "ipython",
    "version": 3
   },
   "file_extension": ".py",
   "mimetype": "text/x-python",
   "name": "python",
   "nbconvert_exporter": "python",
   "pygments_lexer": "ipython3",
   "version": "3.9.13"
  },
  "orig_nbformat": 4,
  "vscode": {
   "interpreter": {
    "hash": "65d32fbfc5ffa91aa4e18b2389fffe7719f4f164e0101283110b80fb70d8eb02"
   }
  }
 },
 "nbformat": 4,
 "nbformat_minor": 2
}
