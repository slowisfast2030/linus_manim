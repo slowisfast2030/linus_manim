{
 "cells": [
  {
   "cell_type": "code",
   "execution_count": 12,
   "metadata": {},
   "outputs": [
    {
     "name": "stdout",
     "output_type": "stream",
     "text": [
      "1\n",
      "2\n",
      "3\n",
      "4\n",
      "5\n",
      "6\n",
      "7\n",
      "8\n",
      "9\n",
      "10\n",
      "****************************************************************************************************\n",
      " 10\n"
     ]
    }
   ],
   "source": [
    "var = 0\n",
    "def fun():\n",
    "    global var\n",
    "    var += 1\n",
    "    return var\n",
    "for _ in range(10):\n",
    "    print(fun())\n",
    "\n",
    "print('*'*100+'\\n',var)"
   ]
  },
  {
   "cell_type": "code",
   "execution_count": 40,
   "metadata": {},
   "outputs": [
    {
     "ename": "UnboundLocalError",
     "evalue": "local variable 'var' referenced before assignment",
     "output_type": "error",
     "traceback": [
      "\u001b[0;31m---------------------------------------------------------------------------\u001b[0m",
      "\u001b[0;31mUnboundLocalError\u001b[0m                         Traceback (most recent call last)",
      "\u001b[1;32m/Users/jinrirencai/Desktop/linus_manim/PageRank/temp.ipynb Cell 2\u001b[0m in \u001b[0;36m<cell line: 6>\u001b[0;34m()\u001b[0m\n\u001b[1;32m      <a href='vscode-notebook-cell:/Users/jinrirencai/Desktop/linus_manim/PageRank/temp.ipynb#W1sZmlsZQ%3D%3D?line=3'>4</a>\u001b[0m     var \u001b[39m=\u001b[39m \u001b[39m1\u001b[39m\n\u001b[1;32m      <a href='vscode-notebook-cell:/Users/jinrirencai/Desktop/linus_manim/PageRank/temp.ipynb#W1sZmlsZQ%3D%3D?line=4'>5</a>\u001b[0m     \u001b[39mprint\u001b[39m(var)\n\u001b[0;32m----> <a href='vscode-notebook-cell:/Users/jinrirencai/Desktop/linus_manim/PageRank/temp.ipynb#W1sZmlsZQ%3D%3D?line=5'>6</a>\u001b[0m fun()\n",
      "\u001b[1;32m/Users/jinrirencai/Desktop/linus_manim/PageRank/temp.ipynb Cell 2\u001b[0m in \u001b[0;36mfun\u001b[0;34m()\u001b[0m\n\u001b[1;32m      <a href='vscode-notebook-cell:/Users/jinrirencai/Desktop/linus_manim/PageRank/temp.ipynb#W1sZmlsZQ%3D%3D?line=1'>2</a>\u001b[0m \u001b[39mdef\u001b[39;00m \u001b[39mfun\u001b[39m():\n\u001b[0;32m----> <a href='vscode-notebook-cell:/Users/jinrirencai/Desktop/linus_manim/PageRank/temp.ipynb#W1sZmlsZQ%3D%3D?line=2'>3</a>\u001b[0m     \u001b[39mprint\u001b[39m(var)\n\u001b[1;32m      <a href='vscode-notebook-cell:/Users/jinrirencai/Desktop/linus_manim/PageRank/temp.ipynb#W1sZmlsZQ%3D%3D?line=3'>4</a>\u001b[0m     var \u001b[39m=\u001b[39m \u001b[39m1\u001b[39m\n\u001b[1;32m      <a href='vscode-notebook-cell:/Users/jinrirencai/Desktop/linus_manim/PageRank/temp.ipynb#W1sZmlsZQ%3D%3D?line=4'>5</a>\u001b[0m     \u001b[39mprint\u001b[39m(var)\n",
      "\u001b[0;31mUnboundLocalError\u001b[0m: local variable 'var' referenced before assignment"
     ]
    }
   ],
   "source": [
    "var = 0\n",
    "def fun():\n",
    "    print(var)\n",
    "    var = 1\n",
    "    print(var)\n",
    "fun()\n",
    "\n",
    "# 这里的关键在于函数内的var=1会屏蔽函数外的var\n",
    "# 屏蔽之后，再执行第一个print\n",
    "# 尽管第一个print在var=1的前面"
   ]
  },
  {
   "cell_type": "code",
   "execution_count": 31,
   "metadata": {},
   "outputs": [
    {
     "name": "stdout",
     "output_type": "stream",
     "text": [
      "inner\n",
      "inner\n"
     ]
    }
   ],
   "source": [
    "\n",
    "def outer():\n",
    "    \n",
    "    # 👇️ initialize message variable\n",
    "    message = 'outer'\n",
    "\n",
    "    def inner():\n",
    "        # 👇️ Mark message as nonlocal\n",
    "        nonlocal message\n",
    "        message = 'inner'\n",
    "        print(message)\n",
    "\n",
    "    inner()\n",
    "\n",
    "    print(message)  # 👉️ \"hello world\"\n",
    "\n",
    "\n",
    "outer()"
   ]
  },
  {
   "cell_type": "code",
   "execution_count": 33,
   "metadata": {},
   "outputs": [
    {
     "name": "stdout",
     "output_type": "stream",
     "text": [
      "⛔️\n"
     ]
    }
   ],
   "source": [
    "print('⛔️')"
   ]
  },
  {
   "cell_type": "code",
   "execution_count": null,
   "metadata": {},
   "outputs": [],
   "source": []
  }
 ],
 "metadata": {
  "kernelspec": {
   "display_name": "Python 3.9.12 ('manim')",
   "language": "python",
   "name": "python3"
  },
  "language_info": {
   "codemirror_mode": {
    "name": "ipython",
    "version": 3
   },
   "file_extension": ".py",
   "mimetype": "text/x-python",
   "name": "python",
   "nbconvert_exporter": "python",
   "pygments_lexer": "ipython3",
   "version": "3.9.12"
  },
  "orig_nbformat": 4,
  "vscode": {
   "interpreter": {
    "hash": "5192550f63379118a2cd15121a1af7d166ca08bc5ab0b5f5b66b466686c1270c"
   }
  }
 },
 "nbformat": 4,
 "nbformat_minor": 2
}
